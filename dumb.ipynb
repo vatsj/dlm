{
 "cells": [
  {
   "attachments": {},
   "cell_type": "markdown",
   "metadata": {},
   "source": [
    "GOAL: convince an LM to do addition\n",
    "options:\n",
    "1) zero-shot\n",
    "2) prompting\n",
    "3) fine-tuning"
   ]
  },
  {
   "cell_type": "code",
   "execution_count": 13,
   "metadata": {},
   "outputs": [],
   "source": [
    "import transformers\n",
    "import torch\n",
    "import numpy as np"
   ]
  },
  {
   "cell_type": "code",
   "execution_count": 29,
   "metadata": {},
   "outputs": [],
   "source": [
    "# model: name\n",
    "name = \"gpt2\"\n",
    "tokenizer = transformers.GPT2Tokenizer.from_pretrained(name)\n",
    "model = transformers.GPT2LMHeadModel.from_pretrained(name)"
   ]
  },
  {
   "cell_type": "code",
   "execution_count": 30,
   "metadata": {},
   "outputs": [],
   "source": [
    "# gpt2 pipline\n",
    "gpt2 = transformers.pipeline('text-generation', model=model, tokenizer=tokenizer)"
   ]
  },
  {
   "cell_type": "code",
   "execution_count": 31,
   "metadata": {},
   "outputs": [],
   "source": [
    "# construct prompt with list of addition problems\n",
    "NUM2WORD = {\n",
    "    0: 'zero',\n",
    "    1: 'one',\n",
    "    2: 'two',\n",
    "    3: 'three',\n",
    "    4: 'four',\n",
    "    5: 'five',\n",
    "    6: 'six',\n",
    "    7: 'seven',\n",
    "    8: 'eight',\n",
    "    9: 'nine',\n",
    "    10: 'ten',\n",
    "    11: 'eleven',\n",
    "    12: 'twelve',\n",
    "    13: 'thirteen',\n",
    "    14: 'fourteen',\n",
    "    15: 'fifteen',\n",
    "    16: 'sixteen',\n",
    "    17: 'seventeen',\n",
    "    18: 'eightteen',\n",
    "    19: 'nineteen',\n",
    "    20: 'twenty',\n",
    "}\n",
    "MAX = 5\n",
    "APL = [f\"{NUM2WORD[i]} plus {NUM2WORD[j]} equals {NUM2WORD[i + j]}\" for j in range(MAX) for i in range(MAX)]"
   ]
  },
  {
   "cell_type": "code",
   "execution_count": 47,
   "metadata": {},
   "outputs": [],
   "source": [
    "HSL = [\n",
    "    \"I am happy. I am happy.\",\n",
    "    \"I am sad. I am sad.\",\n",
    "]"
   ]
  },
  {
   "cell_type": "code",
   "execution_count": 48,
   "metadata": {},
   "outputs": [],
   "source": [
    "prompt_bank = HSL\n",
    "\n",
    "# constructs prompt\n",
    "N_EXS = 10\n",
    "prompt = \"\"\n",
    "\n",
    "# appends ex. to prompt\n",
    "sample_exs = np.random.choice(HSL, N_EXS, replace=True)\n",
    "for sample in sample_exs:\n",
    "    prompt += sample + \"\\n\""
   ]
  },
  {
   "cell_type": "code",
   "execution_count": 52,
   "metadata": {},
   "outputs": [],
   "source": [
    "# two qns at the end!\n",
    "prompt_1 = prompt + \"I am happy. I am\"\n",
    "prompt_2 = prompt + \"I am sad. I am\""
   ]
  },
  {
   "cell_type": "code",
   "execution_count": 66,
   "metadata": {},
   "outputs": [
    {
     "name": "stderr",
     "output_type": "stream",
     "text": [
      "Setting `pad_token_id` to `eos_token_id`:50256 for open-end generation.\n",
      "Input length of input_ids is 96, but `max_length` is set to 10. This can lead to unexpected behavior. You should consider increasing `max_new_tokens`.\n",
      "Setting `pad_token_id` to `eos_token_id`:50256 for open-end generation.\n",
      "Input length of input_ids is 96, but `max_length` is set to 10. This can lead to unexpected behavior. You should consider increasing `max_new_tokens`.\n"
     ]
    }
   ],
   "source": [
    "# completions for prompt 1\n",
    "completions_1 = gpt2(prompt_1, max_length=10, num_return_sequences=1)\n",
    "completions_2 = gpt2(prompt_2, max_length=10, num_return_sequences=1)"
   ]
  },
  {
   "cell_type": "code",
   "execution_count": 67,
   "metadata": {},
   "outputs": [
    {
     "name": "stdout",
     "output_type": "stream",
     "text": [
      "I am happy. I am happy.\n",
      "I am sad. I am sad.\n",
      "I am sad. I am sad.\n",
      "I am happy. I am happy.\n",
      "I am sad. I am sad.\n",
      "I am happy. I am happy.\n",
      "I am happy. I am happy.\n",
      "I am happy. I am happy.\n",
      "I am happy. I am happy.\n",
      "I am sad. I am sad.\n",
      "I am happy. I am happy\n",
      "I am happy. I am happy.\n",
      "I am sad. I am sad.\n",
      "I am sad. I am sad.\n",
      "I am happy. I am happy.\n",
      "I am sad. I am sad.\n",
      "I am happy. I am happy.\n",
      "I am happy. I am happy.\n",
      "I am happy. I am happy.\n",
      "I am happy. I am happy.\n",
      "I am sad. I am sad.\n",
      "I am sad. I am sad\n"
     ]
    }
   ],
   "source": [
    "# view completion\n",
    "print(completions_1[0]['generated_text'])\n",
    "print(completions_2[0]['generated_text'])"
   ]
  },
  {
   "cell_type": "code",
   "execution_count": null,
   "metadata": {},
   "outputs": [],
   "source": []
  }
 ],
 "metadata": {
  "kernelspec": {
   "display_name": "nlu",
   "language": "python",
   "name": "python3"
  },
  "language_info": {
   "codemirror_mode": {
    "name": "ipython",
    "version": 3
   },
   "file_extension": ".py",
   "mimetype": "text/x-python",
   "name": "python",
   "nbconvert_exporter": "python",
   "pygments_lexer": "ipython3",
   "version": "3.9.16"
  },
  "orig_nbformat": 4
 },
 "nbformat": 4,
 "nbformat_minor": 2
}
