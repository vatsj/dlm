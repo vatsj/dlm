{
 "cells": [
  {
   "cell_type": "code",
   "execution_count": 2,
   "metadata": {},
   "outputs": [],
   "source": [
    "import transformers\n",
    "import numpy as np\n",
    "import torch"
   ]
  },
  {
   "cell_type": "code",
   "execution_count": 68,
   "metadata": {},
   "outputs": [
    {
     "name": "stderr",
     "output_type": "stream",
     "text": [
      "Some weights of the model checkpoint at bert-base-uncased were not used when initializing BertForMaskedLM: ['cls.seq_relationship.weight', 'cls.seq_relationship.bias']\n",
      "- This IS expected if you are initializing BertForMaskedLM from the checkpoint of a model trained on another task or with another architecture (e.g. initializing a BertForSequenceClassification model from a BertForPreTraining model).\n",
      "- This IS NOT expected if you are initializing BertForMaskedLM from the checkpoint of a model that you expect to be exactly identical (initializing a BertForSequenceClassification model from a BertForSequenceClassification model).\n"
     ]
    }
   ],
   "source": [
    "# bert\n",
    "name = 'bert-base-uncased'\n",
    "generator = transformers.BertForMaskedLM.from_pretrained(name)\n",
    "tokenizer = transformers.BertTokenizer.from_pretrained(name)\n"
   ]
  },
  {
   "cell_type": "code",
   "execution_count": 76,
   "metadata": {},
   "outputs": [],
   "source": [
    "# prompt= \"[CLS] hello i'm a [MASK] model. [SEP]\"\n",
    "prompt = \"[CLS] hello i'm a [MASK] model and I [MASK] delighted to see you. [SEP]\""
   ]
  },
  {
   "cell_type": "code",
   "execution_count": 77,
   "metadata": {},
   "outputs": [],
   "source": [
    "input_ids = tokenizer.encode(prompt, return_tensors='pt')"
   ]
  },
  {
   "cell_type": "code",
   "execution_count": 78,
   "metadata": {},
   "outputs": [],
   "source": [
    "# embeddings\n",
    "embed_matrix = generator.get_input_embeddings()\n",
    "embeddings = embed_matrix(input_ids)"
   ]
  },
  {
   "cell_type": "code",
   "execution_count": 79,
   "metadata": {},
   "outputs": [],
   "source": [
    "# generation params\n",
    "attention_mask = torch.ones(input_ids.shape, dtype=torch.long, device=input_ids.device)\n"
   ]
  },
  {
   "cell_type": "code",
   "execution_count": 80,
   "metadata": {},
   "outputs": [],
   "source": [
    "# generates!\n",
    "output = generator(input_ids, attention_mask=attention_mask)"
   ]
  },
  {
   "cell_type": "code",
   "execution_count": 81,
   "metadata": {},
   "outputs": [
    {
     "data": {
      "text/plain": [
       "tensor([[ -7.0797,  -7.0008,  -7.0021,  ...,  -6.2100,  -6.1595,  -4.3087],\n",
       "        [ -7.2116,  -7.1302,  -7.1270,  ...,  -6.2950,  -6.2976,  -4.4204],\n",
       "        [ -8.5920,  -8.5411,  -8.6691,  ...,  -8.6186,  -8.6303,  -6.6129],\n",
       "        ...,\n",
       "        [-12.4114, -12.1277, -12.0910,  ...,  -9.8138,  -9.7733,  -9.2235],\n",
       "        [-13.2396, -13.5676, -13.2042,  ..., -12.5416, -11.5955,  -8.8488],\n",
       "        [-14.1082, -14.3892, -14.0937,  ..., -13.7223, -12.7104,  -9.1095]],\n",
       "       grad_fn=<SelectBackward0>)"
      ]
     },
     "execution_count": 81,
     "metadata": {},
     "output_type": "execute_result"
    }
   ],
   "source": [
    "output[0][0]"
   ]
  },
  {
   "cell_type": "code",
   "execution_count": 82,
   "metadata": {},
   "outputs": [
    {
     "data": {
      "text/plain": [
       "'.. hello i. m a new model and i am pleased to see you...'"
      ]
     },
     "execution_count": 82,
     "metadata": {},
     "output_type": "execute_result"
    }
   ],
   "source": [
    "# decodes sentence from output\n",
    "tokenizer.decode(output[0][0].argmax(dim=-1).tolist())"
   ]
  }
 ],
 "metadata": {
  "kernelspec": {
   "display_name": "nlu",
   "language": "python",
   "name": "python3"
  },
  "language_info": {
   "codemirror_mode": {
    "name": "ipython",
    "version": 3
   },
   "file_extension": ".py",
   "mimetype": "text/x-python",
   "name": "python",
   "nbconvert_exporter": "python",
   "pygments_lexer": "ipython3",
   "version": "3.11.4"
  },
  "orig_nbformat": 4
 },
 "nbformat": 4,
 "nbformat_minor": 2
}
